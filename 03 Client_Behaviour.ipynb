{
 "cells": [
  {
   "cell_type": "markdown",
   "metadata": {},
   "source": [
    "### Client behavior analysis"
   ]
  },
  {
   "cell_type": "markdown",
   "metadata": {},
   "source": [
    "#### Import Zone"
   ]
  },
  {
   "cell_type": "code",
   "execution_count": 1,
   "metadata": {},
   "outputs": [],
   "source": [
    "import pandas as pd\n",
    "import matplotlib.pyplot as plt\n",
    "import numpy as np\n",
    "import seaborn as sns\n",
    "from functools import reduce"
   ]
  },
  {
   "cell_type": "code",
   "execution_count": 6,
   "metadata": {},
   "outputs": [],
   "source": [
    "df_final_experiment_clients = pd.read_csv('C:/Users/user/Jupyter/IronHack/Work_Python/Week5/MiniProject/df_final_experiment_clients.csv',sep=';')"
   ]
  },
  {
   "cell_type": "code",
   "execution_count": 7,
   "metadata": {},
   "outputs": [],
   "source": [
    "df_concat_final_web_data = pd.read_csv('C:/Users/user/Jupyter/IronHack/Work_Python/Week5/MiniProject/df_concat_final_web_data.csv',sep=';')"
   ]
  },
  {
   "cell_type": "code",
   "execution_count": 8,
   "metadata": {},
   "outputs": [],
   "source": [
    "df_final_demo = pd.read_csv('C:/Users/user/Jupyter/IronHack/Work_Python/Week5/MiniProject/df_final_demo.csv',sep=';')"
   ]
  },
  {
   "cell_type": "code",
   "execution_count": 13,
   "metadata": {},
   "outputs": [],
   "source": [
    "df_final_demo.drop(columns=['Unnamed: 0'], inplace=True)"
   ]
  },
  {
   "cell_type": "code",
   "execution_count": 9,
   "metadata": {},
   "outputs": [
    {
     "data": {
      "text/html": [
       "<div>\n",
       "<style scoped>\n",
       "    .dataframe tbody tr th:only-of-type {\n",
       "        vertical-align: middle;\n",
       "    }\n",
       "\n",
       "    .dataframe tbody tr th {\n",
       "        vertical-align: top;\n",
       "    }\n",
       "\n",
       "    .dataframe thead th {\n",
       "        text-align: right;\n",
       "    }\n",
       "</style>\n",
       "<table border=\"1\" class=\"dataframe\">\n",
       "  <thead>\n",
       "    <tr style=\"text-align: right;\">\n",
       "      <th></th>\n",
       "      <th>client_id</th>\n",
       "      <th>Variation</th>\n",
       "    </tr>\n",
       "  </thead>\n",
       "  <tbody>\n",
       "    <tr>\n",
       "      <th>0</th>\n",
       "      <td>9988021</td>\n",
       "      <td>Test</td>\n",
       "    </tr>\n",
       "    <tr>\n",
       "      <th>1</th>\n",
       "      <td>8320017</td>\n",
       "      <td>Test</td>\n",
       "    </tr>\n",
       "    <tr>\n",
       "      <th>2</th>\n",
       "      <td>4033851</td>\n",
       "      <td>Control</td>\n",
       "    </tr>\n",
       "    <tr>\n",
       "      <th>3</th>\n",
       "      <td>1982004</td>\n",
       "      <td>Test</td>\n",
       "    </tr>\n",
       "    <tr>\n",
       "      <th>4</th>\n",
       "      <td>9294070</td>\n",
       "      <td>Control</td>\n",
       "    </tr>\n",
       "  </tbody>\n",
       "</table>\n",
       "</div>"
      ],
      "text/plain": [
       "   client_id Variation\n",
       "0    9988021      Test\n",
       "1    8320017      Test\n",
       "2    4033851   Control\n",
       "3    1982004      Test\n",
       "4    9294070   Control"
      ]
     },
     "execution_count": 9,
     "metadata": {},
     "output_type": "execute_result"
    }
   ],
   "source": [
    "df_final_experiment_clients.head()"
   ]
  },
  {
   "cell_type": "code",
   "execution_count": 12,
   "metadata": {},
   "outputs": [
    {
     "data": {
      "text/plain": [
       "(23532, 26968)"
      ]
     },
     "execution_count": 12,
     "metadata": {},
     "output_type": "execute_result"
    }
   ],
   "source": [
    "df_final_experiment_clients[df_final_experiment_clients['Variation']=='Control']['client_id'].count(), df_final_experiment_clients[df_final_experiment_clients['Variation']=='Test']['client_id'].count()"
   ]
  },
  {
   "cell_type": "markdown",
   "metadata": {},
   "source": [
    "#### Who are the primary clients using this online process?\n"
   ]
  },
  {
   "cell_type": "code",
   "execution_count": 14,
   "metadata": {},
   "outputs": [
    {
     "data": {
      "text/html": [
       "<div>\n",
       "<style scoped>\n",
       "    .dataframe tbody tr th:only-of-type {\n",
       "        vertical-align: middle;\n",
       "    }\n",
       "\n",
       "    .dataframe tbody tr th {\n",
       "        vertical-align: top;\n",
       "    }\n",
       "\n",
       "    .dataframe thead th {\n",
       "        text-align: right;\n",
       "    }\n",
       "</style>\n",
       "<table border=\"1\" class=\"dataframe\">\n",
       "  <thead>\n",
       "    <tr style=\"text-align: right;\">\n",
       "      <th></th>\n",
       "      <th>client_id</th>\n",
       "      <th>clnt_tenure_yr</th>\n",
       "      <th>clnt_tenure_mnth</th>\n",
       "      <th>clnt_age</th>\n",
       "      <th>gendr</th>\n",
       "      <th>num_accts</th>\n",
       "      <th>bal</th>\n",
       "      <th>calls_6_mnth</th>\n",
       "      <th>logons_6_mnth</th>\n",
       "    </tr>\n",
       "  </thead>\n",
       "  <tbody>\n",
       "    <tr>\n",
       "      <th>39358</th>\n",
       "      <td>9286288</td>\n",
       "      <td>21.0</td>\n",
       "      <td>254.0</td>\n",
       "      <td>62.5</td>\n",
       "      <td>M</td>\n",
       "      <td>3</td>\n",
       "      <td>16320040.15</td>\n",
       "      <td>6</td>\n",
       "      <td>9</td>\n",
       "    </tr>\n",
       "    <tr>\n",
       "      <th>63732</th>\n",
       "      <td>8339240</td>\n",
       "      <td>6.0</td>\n",
       "      <td>80.0</td>\n",
       "      <td>26.5</td>\n",
       "      <td>M</td>\n",
       "      <td>2</td>\n",
       "      <td>12838418.01</td>\n",
       "      <td>3</td>\n",
       "      <td>3</td>\n",
       "    </tr>\n",
       "    <tr>\n",
       "      <th>23843</th>\n",
       "      <td>7070097</td>\n",
       "      <td>11.0</td>\n",
       "      <td>133.0</td>\n",
       "      <td>53.0</td>\n",
       "      <td>M</td>\n",
       "      <td>2</td>\n",
       "      <td>8986419.77</td>\n",
       "      <td>6</td>\n",
       "      <td>9</td>\n",
       "    </tr>\n",
       "    <tr>\n",
       "      <th>13314</th>\n",
       "      <td>9440656</td>\n",
       "      <td>7.0</td>\n",
       "      <td>94.0</td>\n",
       "      <td>63.0</td>\n",
       "      <td>F</td>\n",
       "      <td>2</td>\n",
       "      <td>8292996.21</td>\n",
       "      <td>6</td>\n",
       "      <td>9</td>\n",
       "    </tr>\n",
       "    <tr>\n",
       "      <th>2171</th>\n",
       "      <td>2291985</td>\n",
       "      <td>7.0</td>\n",
       "      <td>85.0</td>\n",
       "      <td>41.0</td>\n",
       "      <td>M</td>\n",
       "      <td>2</td>\n",
       "      <td>8247729.97</td>\n",
       "      <td>1</td>\n",
       "      <td>4</td>\n",
       "    </tr>\n",
       "    <tr>\n",
       "      <th>20865</th>\n",
       "      <td>1678193</td>\n",
       "      <td>24.0</td>\n",
       "      <td>299.0</td>\n",
       "      <td>65.5</td>\n",
       "      <td>M</td>\n",
       "      <td>3</td>\n",
       "      <td>8137343.24</td>\n",
       "      <td>6</td>\n",
       "      <td>9</td>\n",
       "    </tr>\n",
       "    <tr>\n",
       "      <th>31803</th>\n",
       "      <td>6762377</td>\n",
       "      <td>16.0</td>\n",
       "      <td>193.0</td>\n",
       "      <td>41.5</td>\n",
       "      <td>F</td>\n",
       "      <td>3</td>\n",
       "      <td>8045102.60</td>\n",
       "      <td>6</td>\n",
       "      <td>9</td>\n",
       "    </tr>\n",
       "    <tr>\n",
       "      <th>14052</th>\n",
       "      <td>3519657</td>\n",
       "      <td>18.0</td>\n",
       "      <td>218.0</td>\n",
       "      <td>66.5</td>\n",
       "      <td>M</td>\n",
       "      <td>6</td>\n",
       "      <td>7741994.01</td>\n",
       "      <td>6</td>\n",
       "      <td>9</td>\n",
       "    </tr>\n",
       "    <tr>\n",
       "      <th>21178</th>\n",
       "      <td>987970</td>\n",
       "      <td>14.0</td>\n",
       "      <td>179.0</td>\n",
       "      <td>74.5</td>\n",
       "      <td>M</td>\n",
       "      <td>3</td>\n",
       "      <td>7339443.17</td>\n",
       "      <td>4</td>\n",
       "      <td>9</td>\n",
       "    </tr>\n",
       "    <tr>\n",
       "      <th>33214</th>\n",
       "      <td>857273</td>\n",
       "      <td>31.0</td>\n",
       "      <td>376.0</td>\n",
       "      <td>56.5</td>\n",
       "      <td>M</td>\n",
       "      <td>5</td>\n",
       "      <td>6716305.28</td>\n",
       "      <td>6</td>\n",
       "      <td>9</td>\n",
       "    </tr>\n",
       "  </tbody>\n",
       "</table>\n",
       "</div>"
      ],
      "text/plain": [
       "       client_id  clnt_tenure_yr  clnt_tenure_mnth  clnt_age gendr  num_accts  \\\n",
       "39358    9286288            21.0             254.0      62.5     M          3   \n",
       "63732    8339240             6.0              80.0      26.5     M          2   \n",
       "23843    7070097            11.0             133.0      53.0     M          2   \n",
       "13314    9440656             7.0              94.0      63.0     F          2   \n",
       "2171     2291985             7.0              85.0      41.0     M          2   \n",
       "20865    1678193            24.0             299.0      65.5     M          3   \n",
       "31803    6762377            16.0             193.0      41.5     F          3   \n",
       "14052    3519657            18.0             218.0      66.5     M          6   \n",
       "21178     987970            14.0             179.0      74.5     M          3   \n",
       "33214     857273            31.0             376.0      56.5     M          5   \n",
       "\n",
       "               bal  calls_6_mnth  logons_6_mnth  \n",
       "39358  16320040.15             6              9  \n",
       "63732  12838418.01             3              3  \n",
       "23843   8986419.77             6              9  \n",
       "13314   8292996.21             6              9  \n",
       "2171    8247729.97             1              4  \n",
       "20865   8137343.24             6              9  \n",
       "31803   8045102.60             6              9  \n",
       "14052   7741994.01             6              9  \n",
       "21178   7339443.17             4              9  \n",
       "33214   6716305.28             6              9  "
      ]
     },
     "execution_count": 14,
     "metadata": {},
     "output_type": "execute_result"
    }
   ],
   "source": [
    "sorted_df = df_final_demo.sort_values(by=['bal'], ascending=False).head(10)\n",
    "sorted_df"
   ]
  },
  {
   "cell_type": "markdown",
   "metadata": {},
   "source": [
    "#### Are the primary clients younger or older?"
   ]
  },
  {
   "cell_type": "code",
   "execution_count": 15,
   "metadata": {},
   "outputs": [
    {
     "name": "stdout",
     "output_type": "stream",
     "text": [
      "Older. The average age for the primary clients is: 55.0 \n",
      "      higher than the avg age of all clients which is: 46.0\n"
     ]
    }
   ],
   "source": [
    "mean_age_all = round(df_final_demo['clnt_age'].mean(),0)\n",
    "mean_age_primary = round(sorted_df['clnt_age'].mean(),0)\n",
    "print(f'Older. The average age for the primary clients is: {mean_age_primary} '\n",
    "      f'\\n      higher than the avg age of all clients which is: {mean_age_all}')"
   ]
  },
  {
   "cell_type": "markdown",
   "metadata": {},
   "source": [
    "#### New or long-standing?"
   ]
  },
  {
   "cell_type": "code",
   "execution_count": 16,
   "metadata": {},
   "outputs": [
    {
     "name": "stdout",
     "output_type": "stream",
     "text": [
      "Yes. The average tenure for the primary clients is: 191.0 months \n",
      "      higher than the avg tenure of all clients which is: 151.0 months\n"
     ]
    }
   ],
   "source": [
    "mean_tenure_all = round(df_final_demo['clnt_tenure_mnth'].mean(),0)\n",
    "mean_tenure_primary = round(sorted_df['clnt_tenure_mnth'].mean(),0)\n",
    "print(f'Yes. The average tenure for the primary clients is: {mean_tenure_primary} months '\n",
    "      f'\\n      higher than the avg tenure of all clients which is: {mean_tenure_all} months')"
   ]
  },
  {
   "cell_type": "markdown",
   "metadata": {},
   "source": [
    "### Next, carry out a client behaviour analysis to answer any additional relevant questions you think are important."
   ]
  },
  {
   "cell_type": "code",
   "execution_count": 17,
   "metadata": {},
   "outputs": [
    {
     "name": "stdout",
     "output_type": "stream",
     "text": [
      "The mean age of the clients is 46.0 years old\n"
     ]
    }
   ],
   "source": [
    "print(f'The mean age of the clients is {round((df_final_demo['clnt_age'].mean()),0)} years old')"
   ]
  },
  {
   "cell_type": "code",
   "execution_count": 18,
   "metadata": {},
   "outputs": [
    {
     "name": "stdout",
     "output_type": "stream",
     "text": [
      "The mean calls from clients in the last 6 months is 3.0 calls\n"
     ]
    }
   ],
   "source": [
    "print(f'The mean calls from clients in the last 6 months is {round((df_final_demo['calls_6_mnth'].mean()),0)} calls')\n"
   ]
  }
 ],
 "metadata": {
  "kernelspec": {
   "display_name": "Python 3",
   "language": "python",
   "name": "python3"
  },
  "language_info": {
   "codemirror_mode": {
    "name": "ipython",
    "version": 3
   },
   "file_extension": ".py",
   "mimetype": "text/x-python",
   "name": "python",
   "nbconvert_exporter": "python",
   "pygments_lexer": "ipython3",
   "version": "3.12.3"
  }
 },
 "nbformat": 4,
 "nbformat_minor": 2
}
