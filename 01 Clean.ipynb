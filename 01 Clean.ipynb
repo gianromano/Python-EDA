{
 "cells": [
  {
   "cell_type": "markdown",
   "metadata": {},
   "source": [
    "### Data Cleaning"
   ]
  },
  {
   "cell_type": "markdown",
   "metadata": {},
   "source": [
    "#### Import Zone"
   ]
  },
  {
   "cell_type": "code",
   "execution_count": 1,
   "metadata": {},
   "outputs": [],
   "source": [
    "import pandas as pd\n",
    "import matplotlib.pyplot as plt\n",
    "import seaborn as sns"
   ]
  },
  {
   "cell_type": "markdown",
   "metadata": {},
   "source": [
    "#### View df_final_web_data_pt_1"
   ]
  },
  {
   "cell_type": "code",
   "execution_count": 2,
   "metadata": {},
   "outputs": [
    {
     "name": "stdout",
     "output_type": "stream",
     "text": [
      "<class 'pandas.core.frame.DataFrame'>\n",
      "RangeIndex: 343141 entries, 0 to 343140\n",
      "Data columns (total 5 columns):\n",
      " #   Column        Non-Null Count   Dtype \n",
      "---  ------        --------------   ----- \n",
      " 0   client_id     343141 non-null  int64 \n",
      " 1   visitor_id    343141 non-null  object\n",
      " 2   visit_id      343141 non-null  object\n",
      " 3   process_step  343141 non-null  object\n",
      " 4   date_time     343141 non-null  object\n",
      "dtypes: int64(1), object(4)\n",
      "memory usage: 13.1+ MB\n"
     ]
    }
   ],
   "source": [
    "# df_final_web_data_pt_1\n",
    "path_1 = \"C:/Users/user/Jupyter/IronHack/Work_Python/Week5/MiniProject/df_final_web_data_pt_1.txt\"\n",
    "df_final_web_data_pt_1 = pd.read_csv(path_1)\n",
    "df_final_web_data_pt_1.info()"
   ]
  },
  {
   "cell_type": "code",
   "execution_count": 3,
   "metadata": {},
   "outputs": [
    {
     "data": {
      "text/plain": [
       "client_id        58391\n",
       "visitor_id       62936\n",
       "visit_id         75256\n",
       "process_step         5\n",
       "date_time       282666\n",
       "dtype: int64"
      ]
     },
     "execution_count": 3,
     "metadata": {},
     "output_type": "execute_result"
    }
   ],
   "source": [
    "df_final_web_data_pt_1.nunique()"
   ]
  },
  {
   "cell_type": "code",
   "execution_count": 4,
   "metadata": {},
   "outputs": [
    {
     "data": {
      "text/plain": [
       "(343141, 5)"
      ]
     },
     "execution_count": 4,
     "metadata": {},
     "output_type": "execute_result"
    }
   ],
   "source": [
    "# Explore the size of the dataset\n",
    "df_final_web_data_pt_1.shape"
   ]
  },
  {
   "cell_type": "code",
   "execution_count": 5,
   "metadata": {},
   "outputs": [
    {
     "data": {
      "text/plain": [
       "client_id  visitor_id  visit_id  process_step  date_time\n",
       "False      False       False     False         False        343141\n",
       "Name: count, dtype: int64"
      ]
     },
     "execution_count": 5,
     "metadata": {},
     "output_type": "execute_result"
    }
   ],
   "source": [
    "# Checking for Null Values\n",
    "df_final_web_data_pt_1.isnull().value_counts()"
   ]
  },
  {
   "cell_type": "code",
   "execution_count": 6,
   "metadata": {},
   "outputs": [
    {
     "data": {
      "text/plain": [
       "client_id       False\n",
       "visitor_id      False\n",
       "visit_id        False\n",
       "process_step    False\n",
       "date_time       False\n",
       "dtype: bool"
      ]
     },
     "execution_count": 6,
     "metadata": {},
     "output_type": "execute_result"
    }
   ],
   "source": [
    "# Check for null values in each column\n",
    "df_final_web_data_pt_1.isna().any()"
   ]
  },
  {
   "cell_type": "markdown",
   "metadata": {},
   "source": [
    "#### View df_final_web_data_pt_2"
   ]
  },
  {
   "cell_type": "code",
   "execution_count": 7,
   "metadata": {},
   "outputs": [
    {
     "name": "stdout",
     "output_type": "stream",
     "text": [
      "<class 'pandas.core.frame.DataFrame'>\n",
      "RangeIndex: 412264 entries, 0 to 412263\n",
      "Data columns (total 5 columns):\n",
      " #   Column        Non-Null Count   Dtype \n",
      "---  ------        --------------   ----- \n",
      " 0   client_id     412264 non-null  int64 \n",
      " 1   visitor_id    412264 non-null  object\n",
      " 2   visit_id      412264 non-null  object\n",
      " 3   process_step  412264 non-null  object\n",
      " 4   date_time     412264 non-null  object\n",
      "dtypes: int64(1), object(4)\n",
      "memory usage: 15.7+ MB\n"
     ]
    }
   ],
   "source": [
    "# df_final_web_data_pt_2\n",
    "path_2 = \"C:/Users/user/Jupyter/IronHack/Work_Python/Week5/MiniProject/df_final_web_data_pt_2.txt\"\n",
    "df_final_web_data_pt_2 = pd.read_csv(path_2)\n",
    "df_final_web_data_pt_2.info()"
   ]
  },
  {
   "cell_type": "code",
   "execution_count": 8,
   "metadata": {},
   "outputs": [
    {
     "data": {
      "text/plain": [
       "client_id        67430\n",
       "visitor_id       71042\n",
       "visit_id         82841\n",
       "process_step         5\n",
       "date_time       346697\n",
       "dtype: int64"
      ]
     },
     "execution_count": 8,
     "metadata": {},
     "output_type": "execute_result"
    }
   ],
   "source": [
    "df_final_web_data_pt_2.nunique()"
   ]
  },
  {
   "cell_type": "code",
   "execution_count": 9,
   "metadata": {},
   "outputs": [
    {
     "data": {
      "text/plain": [
       "(412264, 5)"
      ]
     },
     "execution_count": 9,
     "metadata": {},
     "output_type": "execute_result"
    }
   ],
   "source": [
    "# Explore the size of the dataset\n",
    "df_final_web_data_pt_2.shape"
   ]
  },
  {
   "cell_type": "code",
   "execution_count": 10,
   "metadata": {},
   "outputs": [
    {
     "data": {
      "text/plain": [
       "client_id  visitor_id  visit_id  process_step  date_time\n",
       "False      False       False     False         False        412264\n",
       "Name: count, dtype: int64"
      ]
     },
     "execution_count": 10,
     "metadata": {},
     "output_type": "execute_result"
    }
   ],
   "source": [
    "# Checking for Null Values\n",
    "df_final_web_data_pt_2.isnull().value_counts()"
   ]
  },
  {
   "cell_type": "code",
   "execution_count": 11,
   "metadata": {},
   "outputs": [
    {
     "data": {
      "text/plain": [
       "client_id       False\n",
       "visitor_id      False\n",
       "visit_id        False\n",
       "process_step    False\n",
       "date_time       False\n",
       "dtype: bool"
      ]
     },
     "execution_count": 11,
     "metadata": {},
     "output_type": "execute_result"
    }
   ],
   "source": [
    "# Check for null values in each column\n",
    "df_final_web_data_pt_2.isna().any()"
   ]
  },
  {
   "cell_type": "markdown",
   "metadata": {},
   "source": [
    "#### View df_final_demo"
   ]
  },
  {
   "cell_type": "code",
   "execution_count": 12,
   "metadata": {},
   "outputs": [
    {
     "name": "stdout",
     "output_type": "stream",
     "text": [
      "<class 'pandas.core.frame.DataFrame'>\n",
      "RangeIndex: 70609 entries, 0 to 70608\n",
      "Data columns (total 9 columns):\n",
      " #   Column            Non-Null Count  Dtype  \n",
      "---  ------            --------------  -----  \n",
      " 0   client_id         70609 non-null  int64  \n",
      " 1   clnt_tenure_yr    70595 non-null  float64\n",
      " 2   clnt_tenure_mnth  70595 non-null  float64\n",
      " 3   clnt_age          70594 non-null  float64\n",
      " 4   gendr             70595 non-null  object \n",
      " 5   num_accts         70595 non-null  float64\n",
      " 6   bal               70595 non-null  float64\n",
      " 7   calls_6_mnth      70595 non-null  float64\n",
      " 8   logons_6_mnth     70595 non-null  float64\n",
      "dtypes: float64(7), int64(1), object(1)\n",
      "memory usage: 4.8+ MB\n"
     ]
    }
   ],
   "source": [
    "# df_final_demo\n",
    "path_3 = \"C:/Users/user/Jupyter/IronHack/Work_Python/Week5/MiniProject/df_final_demo.txt\"\n",
    "df_final_demo = pd.read_csv(path_3)\n",
    "df_final_demo.info()"
   ]
  },
  {
   "cell_type": "code",
   "execution_count": 13,
   "metadata": {},
   "outputs": [
    {
     "data": {
      "text/plain": [
       "(70609, 9)"
      ]
     },
     "execution_count": 13,
     "metadata": {},
     "output_type": "execute_result"
    }
   ],
   "source": [
    "# Explore the size of the dataset\n",
    "df_final_demo.shape"
   ]
  },
  {
   "cell_type": "code",
   "execution_count": 14,
   "metadata": {},
   "outputs": [
    {
     "data": {
      "text/plain": [
       "client_id           False\n",
       "clnt_tenure_yr       True\n",
       "clnt_tenure_mnth     True\n",
       "clnt_age             True\n",
       "gendr                True\n",
       "num_accts            True\n",
       "bal                  True\n",
       "calls_6_mnth         True\n",
       "logons_6_mnth        True\n",
       "dtype: bool"
      ]
     },
     "execution_count": 14,
     "metadata": {},
     "output_type": "execute_result"
    }
   ],
   "source": [
    "# Check for null values in each column\n",
    "df_final_demo.isna().any()"
   ]
  },
  {
   "cell_type": "code",
   "execution_count": 15,
   "metadata": {},
   "outputs": [
    {
     "data": {
      "text/plain": [
       "client_id           70609\n",
       "clnt_tenure_yr         54\n",
       "clnt_tenure_mnth      482\n",
       "clnt_age              165\n",
       "gendr                   4\n",
       "num_accts               8\n",
       "bal                 70328\n",
       "calls_6_mnth            8\n",
       "logons_6_mnth           9\n",
       "dtype: int64"
      ]
     },
     "execution_count": 15,
     "metadata": {},
     "output_type": "execute_result"
    }
   ],
   "source": [
    "#number of unique values per column\n",
    "df_final_demo.nunique()"
   ]
  },
  {
   "cell_type": "markdown",
   "metadata": {},
   "source": [
    "#### View df_final_experiment_clients"
   ]
  },
  {
   "cell_type": "code",
   "execution_count": 16,
   "metadata": {},
   "outputs": [
    {
     "name": "stdout",
     "output_type": "stream",
     "text": [
      "<class 'pandas.core.frame.DataFrame'>\n",
      "RangeIndex: 70609 entries, 0 to 70608\n",
      "Data columns (total 2 columns):\n",
      " #   Column     Non-Null Count  Dtype \n",
      "---  ------     --------------  ----- \n",
      " 0   client_id  70609 non-null  int64 \n",
      " 1   Variation  50500 non-null  object\n",
      "dtypes: int64(1), object(1)\n",
      "memory usage: 1.1+ MB\n"
     ]
    }
   ],
   "source": [
    "# df_final_experiment_clients\n",
    "path_4 = \"C:/Users/user/Jupyter/IronHack/Work_Python/Week5/MiniProject/df_final_experiment_clients.txt\"\n",
    "df_final_experiment_clients = pd.read_csv(path_4)\n",
    "df_final_experiment_clients.info()"
   ]
  },
  {
   "cell_type": "code",
   "execution_count": 17,
   "metadata": {},
   "outputs": [
    {
     "data": {
      "text/plain": [
       "(70609, 2)"
      ]
     },
     "execution_count": 17,
     "metadata": {},
     "output_type": "execute_result"
    }
   ],
   "source": [
    "# Explore the size of the dataset\n",
    "df_final_experiment_clients.shape"
   ]
  },
  {
   "cell_type": "code",
   "execution_count": 18,
   "metadata": {},
   "outputs": [
    {
     "data": {
      "text/plain": [
       "client_id    False\n",
       "Variation     True\n",
       "dtype: bool"
      ]
     },
     "execution_count": 18,
     "metadata": {},
     "output_type": "execute_result"
    }
   ],
   "source": [
    "# Check for null values in each column\n",
    "df_final_experiment_clients.isna().any()"
   ]
  },
  {
   "cell_type": "code",
   "execution_count": 19,
   "metadata": {},
   "outputs": [
    {
     "data": {
      "text/plain": [
       "client_id    70609\n",
       "Variation        2\n",
       "dtype: int64"
      ]
     },
     "execution_count": 19,
     "metadata": {},
     "output_type": "execute_result"
    }
   ],
   "source": [
    "# Number of unique values per column\n",
    "df_final_experiment_clients.nunique()"
   ]
  },
  {
   "cell_type": "markdown",
   "metadata": {},
   "source": [
    "#### Concatenating df_final_web_data_pt_1 y df_final_web_data_pt_2"
   ]
  },
  {
   "cell_type": "code",
   "execution_count": 20,
   "metadata": {},
   "outputs": [],
   "source": [
    "df_concat_final_web_data= pd.concat([df_final_web_data_pt_1,df_final_web_data_pt_2], axis=0)"
   ]
  },
  {
   "cell_type": "code",
   "execution_count": 21,
   "metadata": {},
   "outputs": [
    {
     "name": "stdout",
     "output_type": "stream",
     "text": [
      "<class 'pandas.core.frame.DataFrame'>\n",
      "Index: 755405 entries, 0 to 412263\n",
      "Data columns (total 5 columns):\n",
      " #   Column        Non-Null Count   Dtype         \n",
      "---  ------        --------------   -----         \n",
      " 0   client_id     755405 non-null  int64         \n",
      " 1   visitor_id    755405 non-null  object        \n",
      " 2   visit_id      755405 non-null  object        \n",
      " 3   process_step  755405 non-null  object        \n",
      " 4   date_time     755405 non-null  datetime64[ns]\n",
      "dtypes: datetime64[ns](1), int64(1), object(3)\n",
      "memory usage: 34.6+ MB\n"
     ]
    }
   ],
   "source": [
    "df_concat_final_web_data['date_time'] = pd.to_datetime(df_concat_final_web_data['date_time'])\n",
    "df_concat_final_web_data.info()"
   ]
  },
  {
   "cell_type": "code",
   "execution_count": 22,
   "metadata": {},
   "outputs": [
    {
     "data": {
      "text/plain": [
       "client_id       120157\n",
       "visitor_id      130236\n",
       "visit_id        158095\n",
       "process_step         5\n",
       "date_time       629363\n",
       "dtype: int64"
      ]
     },
     "execution_count": 22,
     "metadata": {},
     "output_type": "execute_result"
    }
   ],
   "source": [
    "# 125,821\n",
    "df_concat_final_web_data.nunique()"
   ]
  },
  {
   "cell_type": "code",
   "execution_count": 23,
   "metadata": {},
   "outputs": [
    {
     "data": {
      "text/plain": [
       "client_id       False\n",
       "visitor_id      False\n",
       "visit_id        False\n",
       "process_step    False\n",
       "date_time       False\n",
       "dtype: bool"
      ]
     },
     "execution_count": 23,
     "metadata": {},
     "output_type": "execute_result"
    }
   ],
   "source": [
    "# Check for null values in each column\n",
    "df_concat_final_web_data.isna().any()"
   ]
  },
  {
   "cell_type": "code",
   "execution_count": 24,
   "metadata": {},
   "outputs": [
    {
     "data": {
      "text/plain": [
       "client_id       120157\n",
       "visitor_id      130236\n",
       "visit_id        158095\n",
       "process_step         5\n",
       "date_time       629363\n",
       "dtype: int64"
      ]
     },
     "execution_count": 24,
     "metadata": {},
     "output_type": "execute_result"
    }
   ],
   "source": [
    "#number of unique values per column\n",
    "df_concat_final_web_data.nunique()"
   ]
  },
  {
   "cell_type": "code",
   "execution_count": 25,
   "metadata": {},
   "outputs": [],
   "source": [
    "mapping = {\n",
    "    'start' : '0_start',\n",
    "    'step_1' : '1_step_1', \n",
    "    'step_2' : '2_step_2',\n",
    "    'step_3' : '3_step_3',\n",
    "    'confirm' : '4_confirm',\n",
    "}\n",
    "# Reemplazamos los datos de M x 2 y los diversos datos de M por \"Male\" y F por \"Female\"\n",
    "df_concat_final_web_data['process_step'] = df_concat_final_web_data['process_step'].replace(mapping)"
   ]
  },
  {
   "cell_type": "markdown",
   "metadata": {},
   "source": [
    "#### Clean up:"
   ]
  },
  {
   "cell_type": "markdown",
   "metadata": {},
   "source": [
    "##### df_final_demo"
   ]
  },
  {
   "cell_type": "code",
   "execution_count": 26,
   "metadata": {},
   "outputs": [
    {
     "data": {
      "text/plain": [
       "clnt_tenure_mnth    True\n",
       "clnt_age            True\n",
       "gendr               True\n",
       "num_accts           True\n",
       "bal                 True\n",
       "calls_6_mnth        True\n",
       "logons_6_mnth       True\n",
       "dtype: bool"
      ]
     },
     "execution_count": 26,
     "metadata": {},
     "output_type": "execute_result"
    }
   ],
   "source": [
    "# Deleting: 7402828,355337,8412164,2222915,4876926,5277910,7616759,8191345,1227228,8611797,5144725,1037867,1618749,6021001\n",
    "df_final_demo[['clnt_tenure_mnth', 'clnt_age', 'gendr', 'num_accts', 'bal', 'calls_6_mnth', 'logons_6_mnth']].isna().any()\n"
   ]
  },
  {
   "cell_type": "code",
   "execution_count": 27,
   "metadata": {},
   "outputs": [],
   "source": [
    "df_final_demo.dropna(inplace=True)"
   ]
  },
  {
   "cell_type": "code",
   "execution_count": 28,
   "metadata": {},
   "outputs": [
    {
     "data": {
      "text/plain": [
       "client_id           False\n",
       "clnt_tenure_yr      False\n",
       "clnt_tenure_mnth    False\n",
       "clnt_age            False\n",
       "gendr               False\n",
       "num_accts           False\n",
       "bal                 False\n",
       "calls_6_mnth        False\n",
       "logons_6_mnth       False\n",
       "dtype: bool"
      ]
     },
     "execution_count": 28,
     "metadata": {},
     "output_type": "execute_result"
    }
   ],
   "source": [
    "df_final_demo.isna().any()"
   ]
  },
  {
   "cell_type": "code",
   "execution_count": 29,
   "metadata": {},
   "outputs": [
    {
     "name": "stdout",
     "output_type": "stream",
     "text": [
      "<class 'pandas.core.frame.DataFrame'>\n",
      "Index: 70594 entries, 0 to 70608\n",
      "Data columns (total 9 columns):\n",
      " #   Column            Non-Null Count  Dtype  \n",
      "---  ------            --------------  -----  \n",
      " 0   client_id         70594 non-null  int64  \n",
      " 1   clnt_tenure_yr    70594 non-null  float64\n",
      " 2   clnt_tenure_mnth  70594 non-null  float64\n",
      " 3   clnt_age          70594 non-null  float64\n",
      " 4   gendr             70594 non-null  object \n",
      " 5   num_accts         70594 non-null  float64\n",
      " 6   bal               70594 non-null  float64\n",
      " 7   calls_6_mnth      70594 non-null  float64\n",
      " 8   logons_6_mnth     70594 non-null  float64\n",
      "dtypes: float64(7), int64(1), object(1)\n",
      "memory usage: 5.4+ MB\n"
     ]
    }
   ],
   "source": [
    "df_final_demo.info()"
   ]
  },
  {
   "cell_type": "code",
   "execution_count": 30,
   "metadata": {},
   "outputs": [
    {
     "data": {
      "text/plain": [
       "(70594, 9)"
      ]
     },
     "execution_count": 30,
     "metadata": {},
     "output_type": "execute_result"
    }
   ],
   "source": [
    "df_final_demo.shape"
   ]
  },
  {
   "cell_type": "code",
   "execution_count": 31,
   "metadata": {},
   "outputs": [],
   "source": [
    "df_final_demo['num_accts'] = df_final_demo['num_accts'].astype('Int64')\n",
    "df_final_demo['calls_6_mnth'] = df_final_demo['calls_6_mnth'].astype('Int64')\n",
    "df_final_demo['logons_6_mnth'] = df_final_demo['logons_6_mnth'].astype('Int64')\n"
   ]
  },
  {
   "cell_type": "code",
   "execution_count": 32,
   "metadata": {},
   "outputs": [],
   "source": [
    "df_final_demo['bal'] = df_final_demo['bal'].round(2)"
   ]
  },
  {
   "cell_type": "code",
   "execution_count": 33,
   "metadata": {},
   "outputs": [
    {
     "name": "stderr",
     "output_type": "stream",
     "text": [
      "C:\\Users\\user\\AppData\\Local\\Temp\\ipykernel_13836\\2157705592.py:2: FutureWarning: A value is trying to be set on a copy of a DataFrame or Series through chained assignment using an inplace method.\n",
      "The behavior will change in pandas 3.0. This inplace method will never work because the intermediate object on which we are setting values always behaves as a copy.\n",
      "\n",
      "For example, when doing 'df[col].method(value, inplace=True)', try using 'df.method({col: value}, inplace=True)' or df[col] = df[col].method(value) instead, to perform the operation inplace on the original object.\n",
      "\n",
      "\n",
      "  df_final_demo['gendr'].replace('X','U',inplace=True)\n"
     ]
    }
   ],
   "source": [
    "# Convert gendr with X value for U\n",
    "df_final_demo['gendr'].replace('X','U',inplace=True)"
   ]
  },
  {
   "cell_type": "code",
   "execution_count": 34,
   "metadata": {},
   "outputs": [
    {
     "data": {
      "text/plain": [
       "gendr\n",
       "U    24125\n",
       "M    23724\n",
       "F    22745\n",
       "Name: count, dtype: int64"
      ]
     },
     "execution_count": 34,
     "metadata": {},
     "output_type": "execute_result"
    }
   ],
   "source": [
    "df_final_demo['gendr'].value_counts()"
   ]
  },
  {
   "cell_type": "code",
   "execution_count": 35,
   "metadata": {},
   "outputs": [
    {
     "name": "stdout",
     "output_type": "stream",
     "text": [
      "<class 'pandas.core.frame.DataFrame'>\n",
      "Index: 70594 entries, 0 to 70608\n",
      "Data columns (total 9 columns):\n",
      " #   Column            Non-Null Count  Dtype  \n",
      "---  ------            --------------  -----  \n",
      " 0   client_id         70594 non-null  int64  \n",
      " 1   clnt_tenure_yr    70594 non-null  float64\n",
      " 2   clnt_tenure_mnth  70594 non-null  float64\n",
      " 3   clnt_age          70594 non-null  float64\n",
      " 4   gendr             70594 non-null  object \n",
      " 5   num_accts         70594 non-null  Int64  \n",
      " 6   bal               70594 non-null  float64\n",
      " 7   calls_6_mnth      70594 non-null  Int64  \n",
      " 8   logons_6_mnth     70594 non-null  Int64  \n",
      "dtypes: Int64(3), float64(4), int64(1), object(1)\n",
      "memory usage: 5.6+ MB\n"
     ]
    }
   ],
   "source": [
    "df_final_demo.info()"
   ]
  },
  {
   "cell_type": "markdown",
   "metadata": {},
   "source": [
    "##### df_final_experiment_clients"
   ]
  },
  {
   "cell_type": "code",
   "execution_count": 36,
   "metadata": {},
   "outputs": [],
   "source": [
    "df_final_experiment_clients.dropna(inplace=True)"
   ]
  },
  {
   "cell_type": "code",
   "execution_count": 37,
   "metadata": {},
   "outputs": [
    {
     "data": {
      "text/plain": [
       "(50500, 2)"
      ]
     },
     "execution_count": 37,
     "metadata": {},
     "output_type": "execute_result"
    }
   ],
   "source": [
    "df_final_experiment_clients.shape"
   ]
  },
  {
   "cell_type": "code",
   "execution_count": 38,
   "metadata": {},
   "outputs": [
    {
     "data": {
      "text/plain": [
       "client_id    False\n",
       "Variation    False\n",
       "dtype: bool"
      ]
     },
     "execution_count": 38,
     "metadata": {},
     "output_type": "execute_result"
    }
   ],
   "source": [
    "df_final_experiment_clients.isna().any()"
   ]
  },
  {
   "cell_type": "markdown",
   "metadata": {},
   "source": [
    "#### Export Clean CSV files"
   ]
  },
  {
   "cell_type": "markdown",
   "metadata": {},
   "source": [
    "##### Clean CSV for concat file df_concat_final_web_data that comes from: df_final_web_data_pt_1, df_final_web_data_pt_2"
   ]
  },
  {
   "cell_type": "code",
   "execution_count": 39,
   "metadata": {},
   "outputs": [],
   "source": [
    "df_concat_final_web_data.to_csv('C:/Users/user/Jupyter/IronHack/Work_Python/Week5/MiniProject/df_concat_final_web_data.csv',index=False,encoding='latin-1',sep=';')"
   ]
  },
  {
   "cell_type": "markdown",
   "metadata": {},
   "source": [
    "##### Clean csv file for: df_final_experiment_clients"
   ]
  },
  {
   "cell_type": "code",
   "execution_count": 40,
   "metadata": {},
   "outputs": [],
   "source": [
    "df_final_experiment_clients.to_csv('C:/Users/user/Jupyter/IronHack/Work_Python/Week5/MiniProject/df_final_experiment_clients.csv',index=False,encoding='latin-1',sep=';')"
   ]
  },
  {
   "cell_type": "markdown",
   "metadata": {},
   "source": [
    "##### Clean csv file for: df_final_demo"
   ]
  },
  {
   "cell_type": "code",
   "execution_count": 41,
   "metadata": {},
   "outputs": [],
   "source": [
    "df_final_demo.to_csv('C:/Users/user/Jupyter/IronHack/Work_Python/Week5/MiniProject/df_final_demo.csv',index=False,encoding='latin-1',sep=';')"
   ]
  }
 ],
 "metadata": {
  "kernelspec": {
   "display_name": "base",
   "language": "python",
   "name": "python3"
  },
  "language_info": {
   "codemirror_mode": {
    "name": "ipython",
    "version": 3
   },
   "file_extension": ".py",
   "mimetype": "text/x-python",
   "name": "python",
   "nbconvert_exporter": "python",
   "pygments_lexer": "ipython3",
   "version": "3.12.3"
  }
 },
 "nbformat": 4,
 "nbformat_minor": 2
}
