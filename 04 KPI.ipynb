{
 "cells": [
  {
   "cell_type": "markdown",
   "metadata": {},
   "source": [
    "### KPIs"
   ]
  },
  {
   "cell_type": "markdown",
   "metadata": {},
   "source": [
    "#### Import Zone"
   ]
  },
  {
   "cell_type": "code",
   "execution_count": 1,
   "metadata": {},
   "outputs": [],
   "source": [
    "import pandas as pd\n",
    "import matplotlib.pyplot as plt\n",
    "import numpy as np\n",
    "import seaborn as sns\n",
    "from functools import reduce"
   ]
  },
  {
   "cell_type": "code",
   "execution_count": 2,
   "metadata": {},
   "outputs": [],
   "source": [
    "df_final_experiment_clients = pd.read_csv('C:/Users/user/Jupyter/IronHack/Work_Python/Week5/MiniProject/df_final_experiment_clients.csv',sep=';')"
   ]
  },
  {
   "cell_type": "code",
   "execution_count": 3,
   "metadata": {},
   "outputs": [],
   "source": [
    "df_concat_final_web_data = pd.read_csv('C:/Users/user/Jupyter/IronHack/Work_Python/Week5/MiniProject/df_concat_final_web_data.csv',sep=';')"
   ]
  },
  {
   "cell_type": "code",
   "execution_count": 4,
   "metadata": {},
   "outputs": [],
   "source": [
    "df_final_demo = pd.read_csv('C:/Users/user/Jupyter/IronHack/Work_Python/Week5/MiniProject/df_final_demo.csv',sep=';')"
   ]
  },
  {
   "cell_type": "markdown",
   "metadata": {},
   "source": [
    "#### Merge of df_final_experiment_clients & df_concat_final_web_data"
   ]
  },
  {
   "cell_type": "code",
   "execution_count": 5,
   "metadata": {},
   "outputs": [
    {
     "data": {
      "text/html": [
       "<div>\n",
       "<style scoped>\n",
       "    .dataframe tbody tr th:only-of-type {\n",
       "        vertical-align: middle;\n",
       "    }\n",
       "\n",
       "    .dataframe tbody tr th {\n",
       "        vertical-align: top;\n",
       "    }\n",
       "\n",
       "    .dataframe thead th {\n",
       "        text-align: right;\n",
       "    }\n",
       "</style>\n",
       "<table border=\"1\" class=\"dataframe\">\n",
       "  <thead>\n",
       "    <tr style=\"text-align: right;\">\n",
       "      <th></th>\n",
       "      <th>client_id</th>\n",
       "      <th>Variation</th>\n",
       "      <th>visitor_id</th>\n",
       "      <th>visit_id</th>\n",
       "      <th>process_step</th>\n",
       "      <th>date_time</th>\n",
       "    </tr>\n",
       "  </thead>\n",
       "  <tbody>\n",
       "    <tr>\n",
       "      <th>0</th>\n",
       "      <td>9988021</td>\n",
       "      <td>Test</td>\n",
       "      <td>580560515_7732621733</td>\n",
       "      <td>781255054_21935453173_531117</td>\n",
       "      <td>3_step_3</td>\n",
       "      <td>2017-04-17 15:27:07</td>\n",
       "    </tr>\n",
       "    <tr>\n",
       "      <th>1</th>\n",
       "      <td>9988021</td>\n",
       "      <td>Test</td>\n",
       "      <td>580560515_7732621733</td>\n",
       "      <td>781255054_21935453173_531117</td>\n",
       "      <td>2_step_2</td>\n",
       "      <td>2017-04-17 15:26:51</td>\n",
       "    </tr>\n",
       "    <tr>\n",
       "      <th>2</th>\n",
       "      <td>9988021</td>\n",
       "      <td>Test</td>\n",
       "      <td>580560515_7732621733</td>\n",
       "      <td>781255054_21935453173_531117</td>\n",
       "      <td>3_step_3</td>\n",
       "      <td>2017-04-17 15:19:22</td>\n",
       "    </tr>\n",
       "    <tr>\n",
       "      <th>3</th>\n",
       "      <td>9988021</td>\n",
       "      <td>Test</td>\n",
       "      <td>580560515_7732621733</td>\n",
       "      <td>781255054_21935453173_531117</td>\n",
       "      <td>2_step_2</td>\n",
       "      <td>2017-04-17 15:19:13</td>\n",
       "    </tr>\n",
       "    <tr>\n",
       "      <th>4</th>\n",
       "      <td>9988021</td>\n",
       "      <td>Test</td>\n",
       "      <td>580560515_7732621733</td>\n",
       "      <td>781255054_21935453173_531117</td>\n",
       "      <td>3_step_3</td>\n",
       "      <td>2017-04-17 15:18:04</td>\n",
       "    </tr>\n",
       "    <tr>\n",
       "      <th>...</th>\n",
       "      <td>...</td>\n",
       "      <td>...</td>\n",
       "      <td>...</td>\n",
       "      <td>...</td>\n",
       "      <td>...</td>\n",
       "      <td>...</td>\n",
       "    </tr>\n",
       "    <tr>\n",
       "      <th>321304</th>\n",
       "      <td>6334360</td>\n",
       "      <td>Test</td>\n",
       "      <td>629124187_65258232847</td>\n",
       "      <td>586047816_14599436811_389185</td>\n",
       "      <td>2_step_2</td>\n",
       "      <td>2017-04-11 08:45:38</td>\n",
       "    </tr>\n",
       "    <tr>\n",
       "      <th>321305</th>\n",
       "      <td>6334360</td>\n",
       "      <td>Test</td>\n",
       "      <td>629124187_65258232847</td>\n",
       "      <td>586047816_14599436811_389185</td>\n",
       "      <td>1_step_1</td>\n",
       "      <td>2017-04-11 08:44:43</td>\n",
       "    </tr>\n",
       "    <tr>\n",
       "      <th>321306</th>\n",
       "      <td>6334360</td>\n",
       "      <td>Test</td>\n",
       "      <td>629124187_65258232847</td>\n",
       "      <td>586047816_14599436811_389185</td>\n",
       "      <td>2_step_2</td>\n",
       "      <td>2017-04-11 08:44:30</td>\n",
       "    </tr>\n",
       "    <tr>\n",
       "      <th>321307</th>\n",
       "      <td>6334360</td>\n",
       "      <td>Test</td>\n",
       "      <td>629124187_65258232847</td>\n",
       "      <td>586047816_14599436811_389185</td>\n",
       "      <td>1_step_1</td>\n",
       "      <td>2017-04-11 08:42:36</td>\n",
       "    </tr>\n",
       "    <tr>\n",
       "      <th>321308</th>\n",
       "      <td>6334360</td>\n",
       "      <td>Test</td>\n",
       "      <td>629124187_65258232847</td>\n",
       "      <td>586047816_14599436811_389185</td>\n",
       "      <td>0_start</td>\n",
       "      <td>2017-04-11 08:42:20</td>\n",
       "    </tr>\n",
       "  </tbody>\n",
       "</table>\n",
       "<p>321309 rows × 6 columns</p>\n",
       "</div>"
      ],
      "text/plain": [
       "        client_id Variation             visitor_id  \\\n",
       "0         9988021      Test   580560515_7732621733   \n",
       "1         9988021      Test   580560515_7732621733   \n",
       "2         9988021      Test   580560515_7732621733   \n",
       "3         9988021      Test   580560515_7732621733   \n",
       "4         9988021      Test   580560515_7732621733   \n",
       "...           ...       ...                    ...   \n",
       "321304    6334360      Test  629124187_65258232847   \n",
       "321305    6334360      Test  629124187_65258232847   \n",
       "321306    6334360      Test  629124187_65258232847   \n",
       "321307    6334360      Test  629124187_65258232847   \n",
       "321308    6334360      Test  629124187_65258232847   \n",
       "\n",
       "                            visit_id process_step            date_time  \n",
       "0       781255054_21935453173_531117     3_step_3  2017-04-17 15:27:07  \n",
       "1       781255054_21935453173_531117     2_step_2  2017-04-17 15:26:51  \n",
       "2       781255054_21935453173_531117     3_step_3  2017-04-17 15:19:22  \n",
       "3       781255054_21935453173_531117     2_step_2  2017-04-17 15:19:13  \n",
       "4       781255054_21935453173_531117     3_step_3  2017-04-17 15:18:04  \n",
       "...                              ...          ...                  ...  \n",
       "321304  586047816_14599436811_389185     2_step_2  2017-04-11 08:45:38  \n",
       "321305  586047816_14599436811_389185     1_step_1  2017-04-11 08:44:43  \n",
       "321306  586047816_14599436811_389185     2_step_2  2017-04-11 08:44:30  \n",
       "321307  586047816_14599436811_389185     1_step_1  2017-04-11 08:42:36  \n",
       "321308  586047816_14599436811_389185      0_start  2017-04-11 08:42:20  \n",
       "\n",
       "[321309 rows x 6 columns]"
      ]
     },
     "execution_count": 5,
     "metadata": {},
     "output_type": "execute_result"
    }
   ],
   "source": [
    "# Lista de DataFrames\n",
    "interactions_and_testA_B_df = [df_final_experiment_clients,df_concat_final_web_data]\n",
    "\n",
    "# Función para unir de forma acumulativa\n",
    "interactions_df = reduce(lambda left, right: pd.merge(left, right, on='client_id', how='left'), interactions_and_testA_B_df)\n",
    "# interactions_df.drop(columns=['Unnamed: 0_x'], inplace=True)\n",
    "# interactions_df.drop(columns=['Unnamed: 0_y'], inplace=True)\n",
    "interactions_df"
   ]
  },
  {
   "cell_type": "markdown",
   "metadata": {},
   "source": [
    "#### Completion Rate: The proportion of users who reach the final ‘confirm’ step."
   ]
  },
  {
   "cell_type": "code",
   "execution_count": 6,
   "metadata": {},
   "outputs": [],
   "source": [
    "# Groupby process step by Control \n",
    "filtered_df_3 = interactions_df[(interactions_df['Variation'] == 'Control') & (interactions_df['process_step'] == '0_start')]\n",
    "completion_rate__control_denominator = filtered_df_3.groupby(['Variation', 'process_step'])['client_id'].nunique()\n",
    "filtered_df_4 = interactions_df[(interactions_df['Variation'] == 'Control') & (interactions_df['process_step'] == '4_confirm')]\n",
    "completion_rate_control_numerator = filtered_df_4.groupby(['Variation', 'process_step'])['client_id'].nunique()"
   ]
  },
  {
   "cell_type": "code",
   "execution_count": 7,
   "metadata": {},
   "outputs": [],
   "source": [
    "# Groupby process step by Test \n",
    "filtered_df_1 = interactions_df[(interactions_df['Variation'] == 'Test') & (interactions_df['process_step'] == '0_start')]\n",
    "completion_rate_test_denominator = filtered_df_1.groupby(['Variation', 'process_step'])['client_id'].nunique()\n",
    "filtered_df_2 = interactions_df[(interactions_df['Variation'] == 'Test') & (interactions_df['process_step'] == '4_confirm')]\n",
    "completion_rate_test_numerator = filtered_df_2.groupby(['Variation', 'process_step'])['client_id'].nunique()"
   ]
  },
  {
   "cell_type": "code",
   "execution_count": 8,
   "metadata": {},
   "outputs": [
    {
     "name": "stdout",
     "output_type": "stream",
     "text": [
      "Completion rate for Control group is: [65.97]\n"
     ]
    }
   ],
   "source": [
    "completion_rate_control_percentage = np.round(((completion_rate_control_numerator.values / completion_rate__control_denominator.values) * 100), 2)\n",
    "\n",
    "print(f'Completion rate for Control group is: {completion_rate_control_percentage}')"
   ]
  },
  {
   "cell_type": "code",
   "execution_count": 9,
   "metadata": {},
   "outputs": [
    {
     "name": "stdout",
     "output_type": "stream",
     "text": [
      "Completion rate for Test group is: [70.04]\n"
     ]
    }
   ],
   "source": [
    "completion_rate_test_percentage = np.round(((completion_rate_test_numerator.values / completion_rate_test_denominator.values) * 100), 2)\n",
    "\n",
    "print(f'Completion rate for Test group is: {completion_rate_test_percentage}')"
   ]
  },
  {
   "cell_type": "markdown",
   "metadata": {},
   "source": [
    "#### Time Spent on Each Step: The average duration users spend on each step."
   ]
  },
  {
   "cell_type": "code",
   "execution_count": 10,
   "metadata": {},
   "outputs": [],
   "source": [
    "# Convert 'date_time' to datetime format\n",
    "interactions_df['date_time'] = pd.to_datetime(interactions_df['date_time'])\n",
    "\n",
    "# Sort DataFrame by 'client_id' and 'date_time'\n",
    "interactions_df = interactions_df.sort_values(by=['client_id', 'date_time'])\n",
    "\n",
    "# Calculate time spent on each step\n",
    "interactions_df['time_spent'] = interactions_df.groupby('client_id')['date_time'].diff().dt.total_seconds()\n",
    "\n"
   ]
  },
  {
   "cell_type": "code",
   "execution_count": 11,
   "metadata": {},
   "outputs": [
    {
     "data": {
      "text/plain": [
       "process_step\n",
       "0_start      367064.54\n",
       "1_step_1       1838.78\n",
       "2_step_2         39.34\n",
       "3_step_3        575.22\n",
       "4_confirm     66077.31\n",
       "Name: time_spent, dtype: float64"
      ]
     },
     "execution_count": 11,
     "metadata": {},
     "output_type": "execute_result"
    }
   ],
   "source": [
    "average_time_per_step_control = interactions_df[interactions_df['Variation'] == 'Control'].groupby('process_step')['time_spent'].mean().round(2)\n",
    "average_time_per_step_control"
   ]
  },
  {
   "cell_type": "code",
   "execution_count": 12,
   "metadata": {},
   "outputs": [
    {
     "data": {
      "text/plain": [
       "process_step\n",
       "0_start      84.0\n",
       "1_step_1      0.0\n",
       "2_step_2      0.0\n",
       "3_step_3      0.0\n",
       "4_confirm    15.0\n",
       "Name: time_spent, dtype: float64"
      ]
     },
     "execution_count": 12,
     "metadata": {},
     "output_type": "execute_result"
    }
   ],
   "source": [
    "percentages_control = round(((average_time_per_step_control / average_time_per_step_control.sum()) * 100),)\n",
    "percentages_control"
   ]
  },
  {
   "cell_type": "code",
   "execution_count": 13,
   "metadata": {},
   "outputs": [
    {
     "data": {
      "text/plain": [
       "process_step\n",
       "0_start      269749.87\n",
       "1_step_1       1339.80\n",
       "2_step_2        111.21\n",
       "3_step_3        738.92\n",
       "4_confirm    104432.78\n",
       "Name: time_spent, dtype: float64"
      ]
     },
     "execution_count": 13,
     "metadata": {},
     "output_type": "execute_result"
    }
   ],
   "source": [
    "average_time_per_step_test = interactions_df[interactions_df['Variation'] == 'Test'].groupby('process_step')['time_spent'].mean().round(2)\n",
    "average_time_per_step_test"
   ]
  },
  {
   "cell_type": "code",
   "execution_count": 14,
   "metadata": {},
   "outputs": [
    {
     "data": {
      "text/plain": [
       "process_step\n",
       "0_start      71.67\n",
       "1_step_1      0.36\n",
       "2_step_2      0.03\n",
       "3_step_3      0.20\n",
       "4_confirm    27.75\n",
       "Name: time_spent, dtype: float64"
      ]
     },
     "execution_count": 14,
     "metadata": {},
     "output_type": "execute_result"
    }
   ],
   "source": [
    "percentages_test = round(((average_time_per_step_test / average_time_per_step_test.sum()) * 100),2)\n",
    "percentages_test"
   ]
  },
  {
   "cell_type": "markdown",
   "metadata": {},
   "source": [
    "#### Error Rates: If there’s a step where users go back to a previous step, it may indicate confusion or an error. You should consider moving from a later step to an earlier one as an error."
   ]
  },
  {
   "cell_type": "code",
   "execution_count": 16,
   "metadata": {},
   "outputs": [],
   "source": [
    "# Convert 'date_time' to datetime format\n",
    "interactions_df['date_time'] = pd.to_datetime(interactions_df['date_time'])\n",
    "\n",
    "# Sort DataFrame by 'client_id' and 'date_time'\n",
    "interactions_df = interactions_df.sort_values(by=['client_id','visit_id', 'date_time'])\n",
    "\n",
    "# Identify cases where users go back to a previous step\n",
    "interactions_df['previous_step'] = interactions_df.groupby('client_id')['process_step'].shift(1)\n",
    "interactions_df['is_error'] = interactions_df['process_step'] <= interactions_df['previous_step']\n",
    "interactions_df['is_error_count'] = interactions_df['is_error'].astype(int)\n",
    "interactions_df.to_csv('C:/Users/user/Jupyter/IronHack/Work_Python/Week5/MiniProject/interactions_df.csv',index=False,encoding='latin-1',sep=';')\n"
   ]
  },
  {
   "cell_type": "code",
   "execution_count": 47,
   "metadata": {},
   "outputs": [
    {
     "name": "stdout",
     "output_type": "stream",
     "text": [
      "Error rate for Control group: 29.34 34517 117660\n"
     ]
    }
   ],
   "source": [
    "# Count the number of errors\n",
    "error_count_control = interactions_df[interactions_df['Variation'] == 'Control']['is_error'].sum()\n",
    "\n",
    "# Calculate the total number of transitions between steps\n",
    "# Total rows - number of unique client IDs\n",
    "# total_transitions_control = len(interactions_df['Variation'] == 'Control') - interactions_df[interactions_df['Variation'] == 'Control']['client_id'].nunique()\n",
    "total_transitions_control_new = (interactions_df[interactions_df['Variation'] == 'Control']['client_id'].nunique())*5\n",
    "# Calculate the error rate\n",
    "error_rate_control = round(((error_count_control / total_transitions_control_new)*100),2)\n",
    "\n",
    "print(\"Error rate for Control group:\", error_rate_control, error_count_control, total_transitions_control_new)"
   ]
  },
  {
   "cell_type": "code",
   "execution_count": 49,
   "metadata": {},
   "outputs": [
    {
     "name": "stdout",
     "output_type": "stream",
     "text": [
      "Error rate for Test group: 34.13 46015 134840\n"
     ]
    }
   ],
   "source": [
    "# Count the number of errors\n",
    "error_count_Test = interactions_df[interactions_df['Variation'] == 'Test']['is_error'].sum()\n",
    "\n",
    "# Calculate the total number of transitions between steps\n",
    "# Total rows - number of unique client IDs\n",
    "# total_transitions_Test = len(interactions_df['Variation'] == 'Test') - interactions_df[interactions_df['Variation'] == 'Test']['client_id'].nunique()\n",
    "total_transitions_Test_new = (interactions_df[interactions_df['Variation'] == 'Test']['client_id'].nunique())*5\n",
    "# Calculate the error rate\n",
    "error_rate_Test = round(((error_count_Test / total_transitions_Test_new)*100),2)\n",
    "\n",
    "print(\"Error rate for Test group:\", error_rate_Test, error_count_Test, total_transitions_Test_new)"
   ]
  }
 ],
 "metadata": {
  "kernelspec": {
   "display_name": "Python 3",
   "language": "python",
   "name": "python3"
  },
  "language_info": {
   "codemirror_mode": {
    "name": "ipython",
    "version": 3
   },
   "file_extension": ".py",
   "mimetype": "text/x-python",
   "name": "python",
   "nbconvert_exporter": "python",
   "pygments_lexer": "ipython3",
   "version": "3.12.3"
  }
 },
 "nbformat": 4,
 "nbformat_minor": 2
}
