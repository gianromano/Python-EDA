{
 "cells": [
  {
   "cell_type": "markdown",
   "metadata": {},
   "source": [
    "### Hypothesis Testing"
   ]
  },
  {
   "cell_type": "markdown",
   "metadata": {},
   "source": [
    "#### Import Zone"
   ]
  },
  {
   "cell_type": "code",
   "execution_count": 1,
   "metadata": {},
   "outputs": [],
   "source": [
    "import pandas as pd\n",
    "import statsmodels.api as sm\n",
    "import numpy as np\n",
    "from functools import reduce\n",
    "import scipy.stats as stats\n",
    "from scipy.stats import chi2_contingency\n",
    "from scipy.stats import geom\n",
    "from scipy.stats import poisson\n",
    "from scipy.stats import expon\n",
    "from scipy.stats import norm\n",
    "from scipy.stats import binom"
   ]
  },
  {
   "cell_type": "code",
   "execution_count": 2,
   "metadata": {},
   "outputs": [],
   "source": [
    "df_final_experiment_clients = pd.read_csv('C:/Users/user/Jupyter/IronHack/Work_Python/Week5/MiniProject/df_final_experiment_clients.csv',sep=';')"
   ]
  },
  {
   "cell_type": "code",
   "execution_count": 3,
   "metadata": {},
   "outputs": [],
   "source": [
    "df_concat_final_web_data = pd.read_csv('C:/Users/user/Jupyter/IronHack/Work_Python/Week5/MiniProject/df_concat_final_web_data.csv',sep=';')"
   ]
  },
  {
   "cell_type": "code",
   "execution_count": 4,
   "metadata": {},
   "outputs": [],
   "source": [
    "df_final_demo = pd.read_csv('C:/Users/user/Jupyter/IronHack/Work_Python/Week5/MiniProject/df_final_demo.csv',sep=';')"
   ]
  },
  {
   "cell_type": "markdown",
   "metadata": {},
   "source": [
    "#### Some previous calculations"
   ]
  },
  {
   "cell_type": "code",
   "execution_count": 5,
   "metadata": {},
   "outputs": [
    {
     "data": {
      "text/html": [
       "<div>\n",
       "<style scoped>\n",
       "    .dataframe tbody tr th:only-of-type {\n",
       "        vertical-align: middle;\n",
       "    }\n",
       "\n",
       "    .dataframe tbody tr th {\n",
       "        vertical-align: top;\n",
       "    }\n",
       "\n",
       "    .dataframe thead th {\n",
       "        text-align: right;\n",
       "    }\n",
       "</style>\n",
       "<table border=\"1\" class=\"dataframe\">\n",
       "  <thead>\n",
       "    <tr style=\"text-align: right;\">\n",
       "      <th></th>\n",
       "      <th>client_id</th>\n",
       "      <th>Variation</th>\n",
       "      <th>visitor_id</th>\n",
       "      <th>visit_id</th>\n",
       "      <th>process_step</th>\n",
       "      <th>date_time</th>\n",
       "    </tr>\n",
       "  </thead>\n",
       "  <tbody>\n",
       "    <tr>\n",
       "      <th>0</th>\n",
       "      <td>9988021</td>\n",
       "      <td>Test</td>\n",
       "      <td>580560515_7732621733</td>\n",
       "      <td>781255054_21935453173_531117</td>\n",
       "      <td>3_step_3</td>\n",
       "      <td>2017-04-17 15:27:07</td>\n",
       "    </tr>\n",
       "    <tr>\n",
       "      <th>1</th>\n",
       "      <td>9988021</td>\n",
       "      <td>Test</td>\n",
       "      <td>580560515_7732621733</td>\n",
       "      <td>781255054_21935453173_531117</td>\n",
       "      <td>2_step_2</td>\n",
       "      <td>2017-04-17 15:26:51</td>\n",
       "    </tr>\n",
       "    <tr>\n",
       "      <th>2</th>\n",
       "      <td>9988021</td>\n",
       "      <td>Test</td>\n",
       "      <td>580560515_7732621733</td>\n",
       "      <td>781255054_21935453173_531117</td>\n",
       "      <td>3_step_3</td>\n",
       "      <td>2017-04-17 15:19:22</td>\n",
       "    </tr>\n",
       "    <tr>\n",
       "      <th>3</th>\n",
       "      <td>9988021</td>\n",
       "      <td>Test</td>\n",
       "      <td>580560515_7732621733</td>\n",
       "      <td>781255054_21935453173_531117</td>\n",
       "      <td>2_step_2</td>\n",
       "      <td>2017-04-17 15:19:13</td>\n",
       "    </tr>\n",
       "    <tr>\n",
       "      <th>4</th>\n",
       "      <td>9988021</td>\n",
       "      <td>Test</td>\n",
       "      <td>580560515_7732621733</td>\n",
       "      <td>781255054_21935453173_531117</td>\n",
       "      <td>3_step_3</td>\n",
       "      <td>2017-04-17 15:18:04</td>\n",
       "    </tr>\n",
       "  </tbody>\n",
       "</table>\n",
       "</div>"
      ],
      "text/plain": [
       "   client_id Variation            visitor_id                      visit_id  \\\n",
       "0    9988021      Test  580560515_7732621733  781255054_21935453173_531117   \n",
       "1    9988021      Test  580560515_7732621733  781255054_21935453173_531117   \n",
       "2    9988021      Test  580560515_7732621733  781255054_21935453173_531117   \n",
       "3    9988021      Test  580560515_7732621733  781255054_21935453173_531117   \n",
       "4    9988021      Test  580560515_7732621733  781255054_21935453173_531117   \n",
       "\n",
       "  process_step            date_time  \n",
       "0     3_step_3  2017-04-17 15:27:07  \n",
       "1     2_step_2  2017-04-17 15:26:51  \n",
       "2     3_step_3  2017-04-17 15:19:22  \n",
       "3     2_step_2  2017-04-17 15:19:13  \n",
       "4     3_step_3  2017-04-17 15:18:04  "
      ]
     },
     "execution_count": 5,
     "metadata": {},
     "output_type": "execute_result"
    }
   ],
   "source": [
    "# List of dataframes\n",
    "interactions_and_testA_B_df_1 = [df_final_experiment_clients,df_concat_final_web_data]\n",
    "\n",
    "# Merging\n",
    "interactions_df_1 = reduce(lambda left, right: pd.merge(left, right, on='client_id', how='left'), interactions_and_testA_B_df_1)\n",
    "interactions_df_1.head()"
   ]
  },
  {
   "cell_type": "code",
   "execution_count": 6,
   "metadata": {},
   "outputs": [
    {
     "data": {
      "text/html": [
       "<div>\n",
       "<style scoped>\n",
       "    .dataframe tbody tr th:only-of-type {\n",
       "        vertical-align: middle;\n",
       "    }\n",
       "\n",
       "    .dataframe tbody tr th {\n",
       "        vertical-align: top;\n",
       "    }\n",
       "\n",
       "    .dataframe thead th {\n",
       "        text-align: right;\n",
       "    }\n",
       "</style>\n",
       "<table border=\"1\" class=\"dataframe\">\n",
       "  <thead>\n",
       "    <tr style=\"text-align: right;\">\n",
       "      <th></th>\n",
       "      <th>client_id</th>\n",
       "      <th>clnt_tenure_yr</th>\n",
       "      <th>clnt_tenure_mnth</th>\n",
       "      <th>clnt_age</th>\n",
       "      <th>gendr</th>\n",
       "      <th>num_accts</th>\n",
       "      <th>bal</th>\n",
       "      <th>calls_6_mnth</th>\n",
       "      <th>logons_6_mnth</th>\n",
       "      <th>Variation</th>\n",
       "    </tr>\n",
       "  </thead>\n",
       "  <tbody>\n",
       "    <tr>\n",
       "      <th>0</th>\n",
       "      <td>836976</td>\n",
       "      <td>6.0</td>\n",
       "      <td>73.0</td>\n",
       "      <td>60.5</td>\n",
       "      <td>U</td>\n",
       "      <td>2</td>\n",
       "      <td>45105.30</td>\n",
       "      <td>6</td>\n",
       "      <td>9</td>\n",
       "      <td>Test</td>\n",
       "    </tr>\n",
       "    <tr>\n",
       "      <th>1</th>\n",
       "      <td>2304905</td>\n",
       "      <td>7.0</td>\n",
       "      <td>94.0</td>\n",
       "      <td>58.0</td>\n",
       "      <td>U</td>\n",
       "      <td>2</td>\n",
       "      <td>110860.30</td>\n",
       "      <td>6</td>\n",
       "      <td>9</td>\n",
       "      <td>Control</td>\n",
       "    </tr>\n",
       "    <tr>\n",
       "      <th>2</th>\n",
       "      <td>1439522</td>\n",
       "      <td>5.0</td>\n",
       "      <td>64.0</td>\n",
       "      <td>32.0</td>\n",
       "      <td>U</td>\n",
       "      <td>2</td>\n",
       "      <td>52467.79</td>\n",
       "      <td>6</td>\n",
       "      <td>9</td>\n",
       "      <td>Test</td>\n",
       "    </tr>\n",
       "    <tr>\n",
       "      <th>3</th>\n",
       "      <td>1562045</td>\n",
       "      <td>16.0</td>\n",
       "      <td>198.0</td>\n",
       "      <td>49.0</td>\n",
       "      <td>M</td>\n",
       "      <td>2</td>\n",
       "      <td>67454.65</td>\n",
       "      <td>3</td>\n",
       "      <td>6</td>\n",
       "      <td>Test</td>\n",
       "    </tr>\n",
       "    <tr>\n",
       "      <th>4</th>\n",
       "      <td>5126305</td>\n",
       "      <td>12.0</td>\n",
       "      <td>145.0</td>\n",
       "      <td>33.0</td>\n",
       "      <td>F</td>\n",
       "      <td>2</td>\n",
       "      <td>103671.75</td>\n",
       "      <td>0</td>\n",
       "      <td>3</td>\n",
       "      <td>Control</td>\n",
       "    </tr>\n",
       "  </tbody>\n",
       "</table>\n",
       "</div>"
      ],
      "text/plain": [
       "   client_id  clnt_tenure_yr  clnt_tenure_mnth  clnt_age gendr  num_accts  \\\n",
       "0     836976             6.0              73.0      60.5     U          2   \n",
       "1    2304905             7.0              94.0      58.0     U          2   \n",
       "2    1439522             5.0              64.0      32.0     U          2   \n",
       "3    1562045            16.0             198.0      49.0     M          2   \n",
       "4    5126305            12.0             145.0      33.0     F          2   \n",
       "\n",
       "         bal  calls_6_mnth  logons_6_mnth Variation  \n",
       "0   45105.30             6              9      Test  \n",
       "1  110860.30             6              9   Control  \n",
       "2   52467.79             6              9      Test  \n",
       "3   67454.65             3              6      Test  \n",
       "4  103671.75             0              3   Control  "
      ]
     },
     "execution_count": 6,
     "metadata": {},
     "output_type": "execute_result"
    }
   ],
   "source": [
    "# List of dataframes\n",
    "interactions_and_testA_B_df_2 = [df_final_demo,df_final_experiment_clients]\n",
    "\n",
    "# Merging\n",
    "interactions_df_2 = reduce(lambda left, right: pd.merge(left, right, on='client_id', how='left'), interactions_and_testA_B_df_2)\n",
    "interactions_df_2.head()"
   ]
  },
  {
   "cell_type": "code",
   "execution_count": 7,
   "metadata": {},
   "outputs": [],
   "source": [
    "# groupby processstep by Control \n",
    "filtered_df_3 = interactions_df_1[(interactions_df_1['Variation'] == 'Control') & (interactions_df_1['process_step'] == '0_start')]\n",
    "completion_rate__control_denominator = filtered_df_3.groupby(['Variation', 'process_step'])['client_id'].nunique()\n",
    "filtered_df_4 = interactions_df_1[(interactions_df_1['Variation'] == 'Control') & (interactions_df_1['process_step'] == '4_confirm')]\n",
    "completion_rate_control_numerator = filtered_df_4.groupby(['Variation', 'process_step'])['client_id'].nunique()"
   ]
  },
  {
   "cell_type": "code",
   "execution_count": 8,
   "metadata": {},
   "outputs": [],
   "source": [
    "# groupby processstep by Test\n",
    "filtered_df_1 = interactions_df_1[(interactions_df_1['Variation'] == 'Test') & (interactions_df_1['process_step'] == '0_start')]\n",
    "completion_rate_test_denominator = filtered_df_1.groupby(['Variation', 'process_step'])['client_id'].nunique()\n",
    "filtered_df_2 = interactions_df_1[(interactions_df_1['Variation'] == 'Test') & (interactions_df_1['process_step'] == '4_confirm')]\n",
    "completion_rate_test_numerator = filtered_df_2.groupby(['Variation', 'process_step'])['client_id'].nunique()"
   ]
  },
  {
   "cell_type": "code",
   "execution_count": 9,
   "metadata": {},
   "outputs": [],
   "source": [
    "completion_rate_control = completion_rate_control_numerator.values / completion_rate__control_denominator.values\n",
    "completion_rate_test = completion_rate_test_numerator.values / completion_rate_test_denominator.values"
   ]
  },
  {
   "cell_type": "code",
   "execution_count": 10,
   "metadata": {},
   "outputs": [
    {
     "data": {
      "text/plain": [
       "(array([23397], dtype=int64), array([26679], dtype=int64))"
      ]
     },
     "execution_count": 10,
     "metadata": {},
     "output_type": "execute_result"
    }
   ],
   "source": [
    "# control\n",
    "control_confirm_clients = completion_rate_control_numerator\n",
    "total_control_users = completion_rate__control_denominator\n",
    "# test\n",
    "test_confirm_clients = completion_rate_test_numerator\n",
    "total_test_users = completion_rate_test_denominator\n",
    "\n",
    "total_control_users.values, total_test_users.values\n"
   ]
  },
  {
   "cell_type": "markdown",
   "metadata": {},
   "source": [
    "#### COMPLETION RATE: Confirmed if the difference in completion rate of the the new design and the old design is statistically significant."
   ]
  },
  {
   "cell_type": "code",
   "execution_count": null,
   "metadata": {},
   "outputs": [],
   "source": [
    "# H0: There is no difference in completion rates between the new design and the old design.\n",
    "# H1: There is a difference in completion rates between the new design and the old design."
   ]
  },
  {
   "cell_type": "code",
   "execution_count": 11,
   "metadata": {},
   "outputs": [
    {
     "name": "stdout",
     "output_type": "stream",
     "text": [
      "Chi-square statistic: 0.0\n",
      "P-value: 1.0\n",
      "Fail to reject the null hypothesis. There is no significant difference between completion rates.\n"
     ]
    }
   ],
   "source": [
    "# Create a contingency table\n",
    "contingency_table = [[completion_rate_test * len(completion_rate_test), (1 - completion_rate_test) * len(completion_rate_test)],\n",
    "                     [completion_rate_control * len(completion_rate_control), (1 - completion_rate_control) * len(completion_rate_control)]]\n",
    "\n",
    "# Perform chi-square test\n",
    "chi2_stat, p_value, dof, expected = chi2_contingency(contingency_table)\n",
    "\n",
    "# Interpret the results\n",
    "alpha = 0.05\n",
    "print(\"Chi-square statistic:\", chi2_stat)\n",
    "print(\"P-value:\", p_value)\n",
    "if p_value < alpha:\n",
    "    print(\"Reject the null hypothesis. There is a significant difference between completion rates.\")\n",
    "else:\n",
    "    print(\"Fail to reject the null hypothesis. There is no significant difference between completion rates.\")\n"
   ]
  },
  {
   "cell_type": "markdown",
   "metadata": {},
   "source": [
    "#### COMPLETION RATE WITH A COST-EFFECTIVENESS THRESHOLD: Carried out an analysis ensuring that the observed increase in completion rate from the A/B test meets or exceeds this 5% threshold."
   ]
  },
  {
   "cell_type": "code",
   "execution_count": 76,
   "metadata": {},
   "outputs": [
    {
     "name": "stdout",
     "output_type": "stream",
     "text": [
      "Z Score: [0.]\n",
      "P-value: [0.5]\n",
      "Fail to reject the null hypothesis. There is no significant evidence to suggest that the completion rates for the Test group is greater than completion rates for the Control Group.\n"
     ]
    }
   ],
   "source": [
    "# Calculate the completetion rate for the control grupo increased by 5%\n",
    "control_completion_rate_with_threshold = completion_rate_control + 0.05\n",
    "\n",
    "# Perform the two-proportion z-test\n",
    "z_score, p_value = sm.stats.proportions_ztest([completion_rate_control, completion_rate_test], [total_test_users, total_control_users], alternative='larger')\n",
    "\n",
    "# Interpret the results\n",
    "alpha = 0.05  # Significance level\n",
    "print(\"Z Score:\", z_score)\n",
    "print(\"P-value:\", p_value)\n",
    "\n",
    "if p_value < alpha:\n",
    "    print(\"Reject the null hypothesis. There is evidence to suggest that the completion rates for the Test group is greater than completion rates for the Control Group.\")\n",
    "else:\n",
    "    print(\"Fail to reject the null hypothesis. There is no significant evidence to suggest that the completion rates for the Test group is greater than completion rates for the Control Group.\")\n"
   ]
  },
  {
   "cell_type": "markdown",
   "metadata": {},
   "source": [
    "#### OTHER HYPOTHESIS TEST."
   ]
  },
  {
   "cell_type": "markdown",
   "metadata": {},
   "source": [
    "-You might want to test whether the average age of clients engaging with the new process is the same as those engaging with the old process"
   ]
  },
  {
   "cell_type": "code",
   "execution_count": 46,
   "metadata": {},
   "outputs": [],
   "source": [
    "# H0: average age of clients interacting with the new process = average age of clients interacting with the previous process.\n",
    "# H1: average age of clients interacting with the new process != average age of clients interacting with the previous process"
   ]
  },
  {
   "cell_type": "code",
   "execution_count": 72,
   "metadata": {},
   "outputs": [
    {
     "name": "stdout",
     "output_type": "stream",
     "text": [
      "Hypothesis test for age:\n",
      "Test statistic (t): -2.416145610586789\n",
      "P-value: 0.0156893118497501\n",
      "We reject the null hypothesis. There are significant differences in age between the groups.\n"
     ]
    }
   ],
   "source": [
    "control_age = interactions_df_2[interactions_df_2['Variation'] == 'Control']['clnt_age']\n",
    "test_age = interactions_df_2[interactions_df_2['Variation'] == 'Test']['clnt_age']\n",
    "\n",
    "# Hypothesis test for age (Student's t-test)\n",
    "t_statistic_age, p_value_age = stats.ttest_ind(test_age, control_age)\n",
    "\n",
    "# Interpret the results\n",
    "alpha = 0.05\n",
    "\n",
    "print(\"Hypothesis test for age:\")\n",
    "print(\"Test statistic (t):\", t_statistic_age)\n",
    "print(\"P-value:\", p_value_age)\n",
    "if p_value_age < alpha:\n",
    "    print(\"We reject the null hypothesis. There are significant differences in age between the groups.\")\n",
    "else:\n",
    "    print(\"We cannot reject the null hypothesis. There are no significant differences in age between the groups.\")\n"
   ]
  },
  {
   "cell_type": "markdown",
   "metadata": {},
   "source": [
    "\n",
    "-You might want to test if the average client tenure (how long they’ve been with Vanguard) of those engaging with the new process is the same as those engaging with the old process"
   ]
  },
  {
   "cell_type": "code",
   "execution_count": null,
   "metadata": {},
   "outputs": [],
   "source": [
    "# H0: The average tenure of clients interacting with the new process = average tenure of clients interacting with the previous process.\n",
    "# H1: The average tenure of clients interacting with the new process != average tenure of clients interacting with the previous process."
   ]
  },
  {
   "cell_type": "code",
   "execution_count": 73,
   "metadata": {},
   "outputs": [
    {
     "name": "stdout",
     "output_type": "stream",
     "text": [
      "\n",
      "Hypothesis test for customer tenure:\n",
      "Test statistic (t): -1.7148872757395706\n",
      "P-value: 0.0863720328483434\n",
      "We cannot reject the null hypothesis. There are no significant differences in customer tenure between the groups.\n"
     ]
    }
   ],
   "source": [
    "control_since = interactions_df_2[interactions_df_2['Variation'] == 'Control']['clnt_tenure_yr']\n",
    "test_since = interactions_df_2[interactions_df_2['Variation'] == 'Test']['clnt_tenure_yr']\n",
    "\n",
    "# Hypothesis test for customer tenure (Student's t-test)\n",
    "t_statistic_since, p_value_since = stats.ttest_ind(test_since, control_since)\n",
    "\n",
    "# Interpret the results\n",
    "alpha = 0.05\n",
    "\n",
    "print(\"\\nHypothesis test for customer tenure:\")\n",
    "print(\"Test statistic (t):\", t_statistic_since)\n",
    "print(\"P-value:\", p_value_since)\n",
    "if p_value_since < alpha:\n",
    "    print(\"We reject the null hypothesis. There are significant differences in customer tenure between the groups.\")\n",
    "else:\n",
    "    print(\"We cannot reject the null hypothesis. There are no significant differences in customer tenure between the groups.\")"
   ]
  },
  {
   "cell_type": "markdown",
   "metadata": {},
   "source": [
    "#### Evaluated the experiment by answering questions relating to:\n"
   ]
  },
  {
   "cell_type": "markdown",
   "metadata": {},
   "source": [
    "\t-Design Effectiveness\n",
    "\t\t1) Was the experiment well-structured?\n",
    "\t\tANSWER: Yes, clients from both samples were directed into the same steps and the samples were very homogenous\n",
    "\n",
    "\t\t2) Were clients randomly and equally divided between the old and new designs?\n",
    "        ANSWER: I don't know how the samples were selected by they were homogenous\n",
    "\n",
    "\t\t3) Were there any biases?\n",
    "\t\tANSWER: Can't identified any\n",
    "\t\n",
    "\t-Duration\n",
    "\t\t1) Was the timeframe of the experiment (from 3/15/2017 to 6/20/2017) adequate to gather meaningful data and insights?\n",
    "\t\tANSWER: As far as we got data to compare we can reach some insights. Don't see how a longer test would provided better results (more accurate)\n",
    "\n",
    "\t-Additional Data Needs\n",
    "\t\t1) What other data, if available, could enhance the analysis?\n",
    "\t\tANSWER: Gender data has a third of its value in Unknown category"
   ]
  }
 ],
 "metadata": {
  "kernelspec": {
   "display_name": "Python 3",
   "language": "python",
   "name": "python3"
  },
  "language_info": {
   "codemirror_mode": {
    "name": "ipython",
    "version": 3
   },
   "file_extension": ".py",
   "mimetype": "text/x-python",
   "name": "python",
   "nbconvert_exporter": "python",
   "pygments_lexer": "ipython3",
   "version": "3.12.3"
  }
 },
 "nbformat": 4,
 "nbformat_minor": 2
}
